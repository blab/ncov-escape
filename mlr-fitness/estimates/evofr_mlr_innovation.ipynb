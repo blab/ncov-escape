{
 "cells": [
  {
   "cell_type": "code",
   "execution_count": 1,
   "id": "2762e536",
   "metadata": {},
   "outputs": [],
   "source": [
    "import pandas as pd\n",
    "import numpy as np\n",
    "import jax.numpy as jnp\n",
    "import evofr as ef\n",
    "import matplotlib.pyplot as plt"
   ]
  },
  {
   "cell_type": "code",
   "execution_count": 2,
   "id": "4d621e95",
   "metadata": {},
   "outputs": [],
   "source": [
    "# Getting data\n",
    "raw_seq = pd.read_csv(\"../data/pango_location-variant-sequence-counts.tsv\", sep=\"\\t\")\n",
    "# raw_variant_parents is missing a row for BA.2, so append one\n",
    "raw_variant_parents = pd.concat((pd.read_csv(\"../data/pango_variant-relationships.tsv\", sep=\"\\t\"),\n",
    "                                pd.DataFrame({\"variant\": [\"BA.2\"], \"parent\": [\"base\"]}))).reset_index(drop=True)\n",
    "variant_frequencies = ef.InnovationSequenceCounts(raw_seq, raw_variant_parents, pivot=\"BA.2\")"
   ]
  },
  {
   "cell_type": "code",
   "execution_count": 3,
   "id": "8f9ac2ec",
   "metadata": {},
   "outputs": [],
   "source": [
    "# Defining model\n",
    "mlr = ef.InnovationMLR(tau=4.2)"
   ]
  },
  {
   "cell_type": "code",
   "execution_count": 4,
   "id": "b78e8853",
   "metadata": {},
   "outputs": [],
   "source": [
    "# Defining inference method\n",
    "inference_method = ef.InferFullRank(iters=50_000, lr=4e-3, num_samples=100)"
   ]
  },
  {
   "cell_type": "code",
   "execution_count": 5,
   "id": "760d058a",
   "metadata": {},
   "outputs": [],
   "source": [
    "# Fitting model\n",
    "posterior = inference_method.fit(mlr, variant_frequencies)\n",
    "samples = posterior.samples"
   ]
  },
  {
   "cell_type": "code",
   "execution_count": 6,
   "id": "88de95a3",
   "metadata": {},
   "outputs": [
    {
     "data": {
      "text/plain": [
       "Text(0, 0.5, 'loss')"
      ]
     },
     "execution_count": 6,
     "metadata": {},
     "output_type": "execute_result"
    },
    {
     "data": {
      "image/png": "[encoded data removed]",
      "text/plain": [
       "<Figure size 432x288 with 1 Axes>"
      ]
     },
     "metadata": {
      "needs_background": "light"
     },
     "output_type": "display_data"
    }
   ],
   "source": [
    "plt.plot(posterior.samples[\"losses\"])\n",
    "plt.yscale(\"log\")\n",
    "plt.xlabel(\"iterations\")\n",
    "plt.ylabel(\"loss\")"
   ]
  },
  {
   "cell_type": "code",
   "execution_count": 7,
   "id": "statewide-harris",
   "metadata": {},
   "outputs": [],
   "source": [
    "ga = samples[\"ga\"]"
   ]
  },
  {
   "cell_type": "code",
   "execution_count": 8,
   "id": "standing-burning",
   "metadata": {},
   "outputs": [
    {
     "data": {
      "text/plain": [
       "(100, 180)"
      ]
     },
     "execution_count": 8,
     "metadata": {},
     "output_type": "execute_result"
    }
   ],
   "source": [
    "ga.shape"
   ]
  },
  {
   "cell_type": "code",
   "execution_count": 9,
   "id": "expected-basis",
   "metadata": {},
   "outputs": [
    {
     "data": {
      "text/plain": [
       "jaxlib.xla_extension.DeviceArray"
      ]
     },
     "execution_count": 9,
     "metadata": {},
     "output_type": "execute_result"
    }
   ],
   "source": [
    "type(ga)"
   ]
  },
  {
   "cell_type": "code",
   "execution_count": 10,
   "id": "fa2e4ed5",
   "metadata": {},
   "outputs": [
    {
     "data": {
      "text/plain": [
       "['B.1.1.529',\n",
       " 'BA.1',\n",
       " 'BA.1.1',\n",
       " 'BA.1.1.1',\n",
       " 'BA.1.1.10',\n",
       " 'BA.1.1.14',\n",
       " 'BA.1.1.16',\n",
       " 'BA.1.1.18',\n",
       " 'BA.1.1.2',\n",
       " 'BA.1.15']"
      ]
     },
     "execution_count": 10,
     "metadata": {},
     "output_type": "execute_result"
    }
   ],
   "source": [
    "posterior.data.var_names[:10]"
   ]
  },
  {
   "cell_type": "code",
   "execution_count": 11,
   "id": "2389eaf8",
   "metadata": {},
   "outputs": [
    {
     "data": {
      "text/html": [
       "<div>\n",
       "<style scoped>\n",
       "    .dataframe tbody tr th:only-of-type {\n",
       "        vertical-align: middle;\n",
       "    }\n",
       "\n",
       "    .dataframe tbody tr th {\n",
       "        vertical-align: top;\n",
       "    }\n",
       "\n",
       "    .dataframe thead th {\n",
       "        text-align: right;\n",
       "    }\n",
       "</style>\n",
       "<table border=\"1\" class=\"dataframe\">\n",
       "  <thead>\n",
       "    <tr style=\"text-align: right;\">\n",
       "      <th></th>\n",
       "      <th>location</th>\n",
       "      <th>variant</th>\n",
       "      <th>median_ga</th>\n",
       "      <th>ga_upper_80</th>\n",
       "      <th>ga_lower_80</th>\n",
       "    </tr>\n",
       "  </thead>\n",
       "  <tbody>\n",
       "    <tr>\n",
       "      <th>0</th>\n",
       "      <td>USA</td>\n",
       "      <td>B.1.1.529</td>\n",
       "      <td>1.6224344</td>\n",
       "      <td>1.6343935</td>\n",
       "      <td>1.6137043</td>\n",
       "    </tr>\n",
       "    <tr>\n",
       "      <th>1</th>\n",
       "      <td>USA</td>\n",
       "      <td>BA.1</td>\n",
       "      <td>0.64707136</td>\n",
       "      <td>0.64927614</td>\n",
       "      <td>0.6447943</td>\n",
       "    </tr>\n",
       "    <tr>\n",
       "      <th>2</th>\n",
       "      <td>USA</td>\n",
       "      <td>BA.1.1</td>\n",
       "      <td>0.67559946</td>\n",
       "      <td>0.67707634</td>\n",
       "      <td>0.6737089</td>\n",
       "    </tr>\n",
       "    <tr>\n",
       "      <th>3</th>\n",
       "      <td>USA</td>\n",
       "      <td>BA.1.1.1</td>\n",
       "      <td>0.6597877</td>\n",
       "      <td>0.6785018</td>\n",
       "      <td>0.6395522</td>\n",
       "    </tr>\n",
       "    <tr>\n",
       "      <th>4</th>\n",
       "      <td>USA</td>\n",
       "      <td>BA.1.1.10</td>\n",
       "      <td>0.7546855</td>\n",
       "      <td>0.7697933</td>\n",
       "      <td>0.7416856</td>\n",
       "    </tr>\n",
       "    <tr>\n",
       "      <th>5</th>\n",
       "      <td>USA</td>\n",
       "      <td>BA.1.1.14</td>\n",
       "      <td>0.6887062</td>\n",
       "      <td>0.7039045</td>\n",
       "      <td>0.6741283</td>\n",
       "    </tr>\n",
       "    <tr>\n",
       "      <th>6</th>\n",
       "      <td>USA</td>\n",
       "      <td>BA.1.1.16</td>\n",
       "      <td>0.72850907</td>\n",
       "      <td>0.7389129</td>\n",
       "      <td>0.71646434</td>\n",
       "    </tr>\n",
       "    <tr>\n",
       "      <th>7</th>\n",
       "      <td>USA</td>\n",
       "      <td>BA.1.1.18</td>\n",
       "      <td>0.6404326</td>\n",
       "      <td>0.6457438</td>\n",
       "      <td>0.6337965</td>\n",
       "    </tr>\n",
       "    <tr>\n",
       "      <th>8</th>\n",
       "      <td>USA</td>\n",
       "      <td>BA.1.1.2</td>\n",
       "      <td>0.63039804</td>\n",
       "      <td>0.6491891</td>\n",
       "      <td>0.61385804</td>\n",
       "    </tr>\n",
       "    <tr>\n",
       "      <th>9</th>\n",
       "      <td>USA</td>\n",
       "      <td>BA.1.15</td>\n",
       "      <td>0.62678415</td>\n",
       "      <td>0.6332088</td>\n",
       "      <td>0.6217066</td>\n",
       "    </tr>\n",
       "  </tbody>\n",
       "</table>\n",
       "</div>"
      ],
      "text/plain": [
       "  location    variant   median_ga ga_upper_80 ga_lower_80\n",
       "0      USA  B.1.1.529   1.6224344   1.6343935   1.6137043\n",
       "1      USA       BA.1  0.64707136  0.64927614   0.6447943\n",
       "2      USA     BA.1.1  0.67559946  0.67707634   0.6737089\n",
       "3      USA   BA.1.1.1   0.6597877   0.6785018   0.6395522\n",
       "4      USA  BA.1.1.10   0.7546855   0.7697933   0.7416856\n",
       "5      USA  BA.1.1.14   0.6887062   0.7039045   0.6741283\n",
       "6      USA  BA.1.1.16  0.72850907   0.7389129  0.71646434\n",
       "7      USA  BA.1.1.18   0.6404326   0.6457438   0.6337965\n",
       "8      USA   BA.1.1.2  0.63039804   0.6491891  0.61385804\n",
       "9      USA    BA.1.15  0.62678415   0.6332088   0.6217066"
      ]
     },
     "execution_count": 11,
     "metadata": {},
     "output_type": "execute_result"
    }
   ],
   "source": [
    "ga_df = pd.DataFrame(\n",
    "    ef.posterior.get_growth_advantage(samples, posterior.data, ps=[0.8], name=\"USA\", rel_to=\"BA.2\")\n",
    ")\n",
    "ga_df.head(10)"
   ]
  },
  {
   "cell_type": "code",
   "execution_count": 12,
   "id": "retained-caution",
   "metadata": {},
   "outputs": [],
   "source": [
    "ga_df.to_csv('growth_advantages.tsv', sep=\"\\t\")"
   ]
  },
  {
   "cell_type": "code",
   "execution_count": 13,
   "id": "e71afed2",
   "metadata": {},
   "outputs": [],
   "source": [
    "def get_growth_advantage_delta(samples, data, ps, name, rel_to=\"other\"):\n",
    "    # Unpack variant info\n",
    "    var_names = data.var_names\n",
    "    par_names = [data.parent_map[v] for v in var_names]\n",
    "\n",
    "    # Get posterior samples\n",
    "    ga = jnp.array(jnp.exp(samples[\"delta\"]))\n",
    "    N_variant = ga.shape[-1]\n",
    "\n",
    "    # Loop over ga and make relative rel_to\n",
    "    for i, s in enumerate(var_names):\n",
    "        if s == rel_to:\n",
    "            ga = jnp.divide(ga, ga[:, i][:, None])\n",
    "\n",
    "    #ga = jnp.divide(ga, ga[:, var_names.index(rel_to)][:, None])\n",
    "\n",
    "    # Compute medians and quantiles\n",
    "    meds = jnp.median(ga, axis=0)\n",
    "    gas = []\n",
    "    for i, p in enumerate(ps):\n",
    "        up = 0.5 + p / 2\n",
    "        lp = 0.5 - p / 2\n",
    "        gas.append(jnp.quantile(ga, jnp.array([lp, up]), axis=0).T)\n",
    "\n",
    "    # Make empty dictionary\n",
    "    v_dict = dict()\n",
    "    v_dict[\"location\"] = []\n",
    "    v_dict[\"variant\"] = []\n",
    "    v_dict[\"parent\"] = []\n",
    "    v_dict[\"median_ga_delta\"] = []\n",
    "\n",
    "    for p in ps:\n",
    "        v_dict[f\"ga_delta_upper_{round(p * 100)}\"] = []\n",
    "        v_dict[f\"ga_delta_lower_{round(p * 100)}\"] = []\n",
    "\n",
    "    for variant in range(N_variant):\n",
    "        if var_names[variant] != rel_to:\n",
    "            v_dict[\"location\"].append(name)\n",
    "            v_dict[\"variant\"].append(var_names[variant])\n",
    "            v_dict[\"parent\"].append(par_names[variant])\n",
    "            v_dict[\"median_ga_delta\"].append(meds[variant])\n",
    "            for i, p in enumerate(ps):\n",
    "                v_dict[f\"ga_delta_upper_{round(p * 100)}\"].append(gas[i][variant, 1])\n",
    "                v_dict[f\"ga_delta_lower_{round(p * 100)}\"].append(gas[i][variant, 0])\n",
    "\n",
    "    return v_dict"
   ]
  },
  {
   "cell_type": "code",
   "execution_count": 14,
   "id": "93cd39d4",
   "metadata": {},
   "outputs": [
    {
     "data": {
      "text/html": [
       "<div>\n",
       "<style scoped>\n",
       "    .dataframe tbody tr th:only-of-type {\n",
       "        vertical-align: middle;\n",
       "    }\n",
       "\n",
       "    .dataframe tbody tr th {\n",
       "        vertical-align: top;\n",
       "    }\n",
       "\n",
       "    .dataframe thead th {\n",
       "        text-align: right;\n",
       "    }\n",
       "</style>\n",
       "<table border=\"1\" class=\"dataframe\">\n",
       "  <thead>\n",
       "    <tr style=\"text-align: right;\">\n",
       "      <th></th>\n",
       "      <th>location</th>\n",
       "      <th>variant</th>\n",
       "      <th>parent</th>\n",
       "      <th>median_ga_delta</th>\n",
       "      <th>ga_delta_upper_80</th>\n",
       "      <th>ga_delta_lower_80</th>\n",
       "    </tr>\n",
       "  </thead>\n",
       "  <tbody>\n",
       "    <tr>\n",
       "      <th>0</th>\n",
       "      <td>USA</td>\n",
       "      <td>B.1.1.529</td>\n",
       "      <td>BA.2</td>\n",
       "      <td>1.1221213</td>\n",
       "      <td>1.1240851</td>\n",
       "      <td>1.1206807</td>\n",
       "    </tr>\n",
       "    <tr>\n",
       "      <th>1</th>\n",
       "      <td>USA</td>\n",
       "      <td>BA.1</td>\n",
       "      <td>BA.2</td>\n",
       "      <td>0.90154755</td>\n",
       "      <td>0.90227795</td>\n",
       "      <td>0.9007911</td>\n",
       "    </tr>\n",
       "    <tr>\n",
       "      <th>2</th>\n",
       "      <td>USA</td>\n",
       "      <td>BA.1.1</td>\n",
       "      <td>BA.1</td>\n",
       "      <td>1.0103419</td>\n",
       "      <td>1.0110389</td>\n",
       "      <td>1.0095108</td>\n",
       "    </tr>\n",
       "    <tr>\n",
       "      <th>3</th>\n",
       "      <td>USA</td>\n",
       "      <td>BA.1.1.1</td>\n",
       "      <td>BA.1.1</td>\n",
       "      <td>0.99437845</td>\n",
       "      <td>1.001341</td>\n",
       "      <td>0.9872526</td>\n",
       "    </tr>\n",
       "    <tr>\n",
       "      <th>4</th>\n",
       "      <td>USA</td>\n",
       "      <td>BA.1.1.10</td>\n",
       "      <td>BA.1.1</td>\n",
       "      <td>1.0269046</td>\n",
       "      <td>1.0317016</td>\n",
       "      <td>1.0229573</td>\n",
       "    </tr>\n",
       "    <tr>\n",
       "      <th>5</th>\n",
       "      <td>USA</td>\n",
       "      <td>BA.1.1.14</td>\n",
       "      <td>BA.1.1</td>\n",
       "      <td>1.0047157</td>\n",
       "      <td>1.0095304</td>\n",
       "      <td>0.99963236</td>\n",
       "    </tr>\n",
       "    <tr>\n",
       "      <th>6</th>\n",
       "      <td>USA</td>\n",
       "      <td>BA.1.1.16</td>\n",
       "      <td>BA.1.1</td>\n",
       "      <td>1.0184286</td>\n",
       "      <td>1.0218478</td>\n",
       "      <td>1.0141922</td>\n",
       "    </tr>\n",
       "    <tr>\n",
       "      <th>7</th>\n",
       "      <td>USA</td>\n",
       "      <td>BA.1.1.18</td>\n",
       "      <td>BA.1.1</td>\n",
       "      <td>0.987587</td>\n",
       "      <td>0.9892881</td>\n",
       "      <td>0.9850956</td>\n",
       "    </tr>\n",
       "    <tr>\n",
       "      <th>8</th>\n",
       "      <td>USA</td>\n",
       "      <td>BA.1.1.2</td>\n",
       "      <td>BA.1.1</td>\n",
       "      <td>0.9837519</td>\n",
       "      <td>0.9907564</td>\n",
       "      <td>0.9776236</td>\n",
       "    </tr>\n",
       "    <tr>\n",
       "      <th>9</th>\n",
       "      <td>USA</td>\n",
       "      <td>BA.1.15</td>\n",
       "      <td>BA.1</td>\n",
       "      <td>0.99258876</td>\n",
       "      <td>0.9945248</td>\n",
       "      <td>0.9908046</td>\n",
       "    </tr>\n",
       "  </tbody>\n",
       "</table>\n",
       "</div>"
      ],
      "text/plain": [
       "  location    variant  parent median_ga_delta ga_delta_upper_80  \\\n",
       "0      USA  B.1.1.529    BA.2       1.1221213         1.1240851   \n",
       "1      USA       BA.1    BA.2      0.90154755        0.90227795   \n",
       "2      USA     BA.1.1    BA.1       1.0103419         1.0110389   \n",
       "3      USA   BA.1.1.1  BA.1.1      0.99437845          1.001341   \n",
       "4      USA  BA.1.1.10  BA.1.1       1.0269046         1.0317016   \n",
       "5      USA  BA.1.1.14  BA.1.1       1.0047157         1.0095304   \n",
       "6      USA  BA.1.1.16  BA.1.1       1.0184286         1.0218478   \n",
       "7      USA  BA.1.1.18  BA.1.1        0.987587         0.9892881   \n",
       "8      USA   BA.1.1.2  BA.1.1       0.9837519         0.9907564   \n",
       "9      USA    BA.1.15    BA.1      0.99258876         0.9945248   \n",
       "\n",
       "  ga_delta_lower_80  \n",
       "0         1.1206807  \n",
       "1         0.9007911  \n",
       "2         1.0095108  \n",
       "3         0.9872526  \n",
       "4         1.0229573  \n",
       "5        0.99963236  \n",
       "6         1.0141922  \n",
       "7         0.9850956  \n",
       "8         0.9776236  \n",
       "9         0.9908046  "
      ]
     },
     "execution_count": 14,
     "metadata": {},
     "output_type": "execute_result"
    }
   ],
   "source": [
    "ga_delta_df = pd.DataFrame(\n",
    "    get_growth_advantage_delta(samples, variant_frequencies, [0.8], \"USA\", rel_to=\"BA.2\")\n",
    ")\n",
    "ga_delta_df.head(10)"
   ]
  },
  {
   "cell_type": "code",
   "execution_count": 15,
   "id": "68a5ade6",
   "metadata": {},
   "outputs": [],
   "source": [
    "ga_delta_df.to_csv('growth_advantages_delta.tsv', sep=\"\\t\")"
   ]
  }
 ],
 "metadata": {
  "kernelspec": {
   "display_name": "Python 3 (ipykernel)",
   "language": "python",
   "name": "python3"
  },
  "language_info": {
   "codemirror_mode": {
    "name": "ipython",
    "version": 3
   },
   "file_extension": ".py",
   "mimetype": "text/x-python",
   "name": "python",
   "nbconvert_exporter": "python",
   "pygments_lexer": "ipython3",
   "version": "3.9.13"
  }
 },
 "nbformat": 4,
 "nbformat_minor": 5
}
