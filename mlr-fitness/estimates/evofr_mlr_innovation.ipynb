{
 "cells": [
  {
   "cell_type": "code",
   "execution_count": 1,
   "id": "2762e536",
   "metadata": {},
   "outputs": [],
   "source": [
    "import pandas as pd\n",
    "import numpy as np\n",
    "import jax.numpy as jnp\n",
    "import evofr as ef\n",
    "import matplotlib.pyplot as plt"
   ]
  },
  {
   "cell_type": "code",
   "execution_count": 2,
   "id": "4d621e95",
   "metadata": {},
   "outputs": [],
   "source": [
    "# Getting data\n",
    "raw_seq = pd.read_csv(\"../data/pango_location-variant-sequence-counts.tsv\", sep=\"\\t\")\n",
    "# raw_variant_parents is missing a row for BA.2, so append one\n",
    "raw_variant_parents = pd.concat((pd.read_csv(\"../data/pango_variant-relationships.tsv\", sep=\"\\t\"),\n",
    "                                pd.DataFrame({\"variant\": [\"BA.2\"], \"parent\": [\"base\"]}))).reset_index(drop=True)\n",
    "variant_frequencies = ef.InnovationSequenceCounts(raw_seq, raw_variant_parents, pivot=\"BA.2\")"
   ]
  },
  {
   "cell_type": "code",
   "execution_count": 3,
   "id": "8f9ac2ec",
   "metadata": {},
   "outputs": [],
   "source": [
    "# Defining model\n",
    "mlr = ef.InnovationMLR(tau=4.2)"
   ]
  },
  {
   "cell_type": "code",
   "execution_count": 4,
   "id": "b78e8853",
   "metadata": {},
   "outputs": [],
   "source": [
    "# Defining inference method\n",
    "inference_method = ef.InferFullRank(iters=50_000, lr=4e-3, num_samples=100)"
   ]
  },
  {
   "cell_type": "code",
   "execution_count": 5,
   "id": "760d058a",
   "metadata": {},
   "outputs": [],
   "source": [
    "# Fitting model\n",
    "posterior = inference_method.fit(mlr, variant_frequencies)\n",
    "samples = posterior.samples"
   ]
  },
  {
   "cell_type": "code",
   "execution_count": 12,
   "id": "88de95a3",
   "metadata": {},
   "outputs": [
    {
     "data": {
      "text/plain": [
       "Text(0, 0.5, 'loss')"
      ]
     },
     "execution_count": 12,
     "metadata": {},
     "output_type": "execute_result"
    },
    {
     "data": {
      "image/png": "[encoded data removed]",
      "text/plain": [
       "<Figure size 432x288 with 1 Axes>"
      ]
     },
     "metadata": {
      "needs_background": "light"
     },
     "output_type": "display_data"
    }
   ],
   "source": [
    "plt.plot(posterior.samples[\"losses\"])\n",
    "plt.yscale(\"log\")\n",
    "plt.xlabel(\"iterations\")\n",
    "plt.ylabel(\"loss\")"
   ]
  },
  {
   "cell_type": "code",
   "execution_count": 13,
   "id": "statewide-harris",
   "metadata": {},
   "outputs": [],
   "source": [
    "ga = samples[\"ga\"]"
   ]
  },
  {
   "cell_type": "code",
   "execution_count": 14,
   "id": "standing-burning",
   "metadata": {},
   "outputs": [
    {
     "data": {
      "text/plain": [
       "(100, 180)"
      ]
     },
     "execution_count": 14,
     "metadata": {},
     "output_type": "execute_result"
    }
   ],
   "source": [
    "ga.shape"
   ]
  },
  {
   "cell_type": "code",
   "execution_count": 15,
   "id": "expected-basis",
   "metadata": {},
   "outputs": [
    {
     "data": {
      "text/plain": [
       "jaxlib.xla_extension.DeviceArray"
      ]
     },
     "execution_count": 15,
     "metadata": {},
     "output_type": "execute_result"
    }
   ],
   "source": [
    "type(ga)"
   ]
  },
  {
   "cell_type": "code",
   "execution_count": 16,
   "id": "fa2e4ed5",
   "metadata": {},
   "outputs": [
    {
     "data": {
      "text/plain": [
       "['B.1.1.529',\n",
       " 'BA.1',\n",
       " 'BA.1.1',\n",
       " 'BA.1.1.1',\n",
       " 'BA.1.1.10',\n",
       " 'BA.1.1.14',\n",
       " 'BA.1.1.16',\n",
       " 'BA.1.1.18',\n",
       " 'BA.1.1.2',\n",
       " 'BA.1.15']"
      ]
     },
     "execution_count": 16,
     "metadata": {},
     "output_type": "execute_result"
    }
   ],
   "source": [
    "posterior.data.var_names[:10]"
   ]
  },
  {
   "cell_type": "code",
   "execution_count": 17,
   "id": "2389eaf8",
   "metadata": {},
   "outputs": [
    {
     "data": {
      "text/html": [
       "<div>\n",
       "<style scoped>\n",
       "    .dataframe tbody tr th:only-of-type {\n",
       "        vertical-align: middle;\n",
       "    }\n",
       "\n",
       "    .dataframe tbody tr th {\n",
       "        vertical-align: top;\n",
       "    }\n",
       "\n",
       "    .dataframe thead th {\n",
       "        text-align: right;\n",
       "    }\n",
       "</style>\n",
       "<table border=\"1\" class=\"dataframe\">\n",
       "  <thead>\n",
       "    <tr style=\"text-align: right;\">\n",
       "      <th></th>\n",
       "      <th>location</th>\n",
       "      <th>variant</th>\n",
       "      <th>median_ga</th>\n",
       "      <th>ga_upper_80</th>\n",
       "      <th>ga_lower_80</th>\n",
       "    </tr>\n",
       "  </thead>\n",
       "  <tbody>\n",
       "    <tr>\n",
       "      <th>0</th>\n",
       "      <td>USA</td>\n",
       "      <td>B.1.1.529</td>\n",
       "      <td>1.596814</td>\n",
       "      <td>1.6061649</td>\n",
       "      <td>1.5858728</td>\n",
       "    </tr>\n",
       "    <tr>\n",
       "      <th>1</th>\n",
       "      <td>USA</td>\n",
       "      <td>BA.1</td>\n",
       "      <td>0.6476118</td>\n",
       "      <td>0.64970005</td>\n",
       "      <td>0.64570475</td>\n",
       "    </tr>\n",
       "    <tr>\n",
       "      <th>2</th>\n",
       "      <td>USA</td>\n",
       "      <td>BA.1.1</td>\n",
       "      <td>0.6747711</td>\n",
       "      <td>0.6764148</td>\n",
       "      <td>0.6728002</td>\n",
       "    </tr>\n",
       "    <tr>\n",
       "      <th>3</th>\n",
       "      <td>USA</td>\n",
       "      <td>BA.1.1.1</td>\n",
       "      <td>0.67475915</td>\n",
       "      <td>0.69391716</td>\n",
       "      <td>0.6575288</td>\n",
       "    </tr>\n",
       "    <tr>\n",
       "      <th>4</th>\n",
       "      <td>USA</td>\n",
       "      <td>BA.1.1.10</td>\n",
       "      <td>0.7552886</td>\n",
       "      <td>0.77209896</td>\n",
       "      <td>0.7432441</td>\n",
       "    </tr>\n",
       "    <tr>\n",
       "      <th>5</th>\n",
       "      <td>USA</td>\n",
       "      <td>BA.1.1.14</td>\n",
       "      <td>0.69627714</td>\n",
       "      <td>0.70854044</td>\n",
       "      <td>0.68115306</td>\n",
       "    </tr>\n",
       "    <tr>\n",
       "      <th>6</th>\n",
       "      <td>USA</td>\n",
       "      <td>BA.1.1.16</td>\n",
       "      <td>0.7183915</td>\n",
       "      <td>0.7318605</td>\n",
       "      <td>0.7085033</td>\n",
       "    </tr>\n",
       "    <tr>\n",
       "      <th>7</th>\n",
       "      <td>USA</td>\n",
       "      <td>BA.1.1.18</td>\n",
       "      <td>0.6399752</td>\n",
       "      <td>0.6462689</td>\n",
       "      <td>0.6341029</td>\n",
       "    </tr>\n",
       "    <tr>\n",
       "      <th>8</th>\n",
       "      <td>USA</td>\n",
       "      <td>BA.1.1.2</td>\n",
       "      <td>0.61189365</td>\n",
       "      <td>0.63070726</td>\n",
       "      <td>0.5957508</td>\n",
       "    </tr>\n",
       "    <tr>\n",
       "      <th>9</th>\n",
       "      <td>USA</td>\n",
       "      <td>BA.1.15</td>\n",
       "      <td>0.6321796</td>\n",
       "      <td>0.6372749</td>\n",
       "      <td>0.6275044</td>\n",
       "    </tr>\n",
       "  </tbody>\n",
       "</table>\n",
       "</div>"
      ],
      "text/plain": [
       "  location    variant   median_ga ga_upper_80 ga_lower_80\n",
       "0      USA  B.1.1.529    1.596814   1.6061649   1.5858728\n",
       "1      USA       BA.1   0.6476118  0.64970005  0.64570475\n",
       "2      USA     BA.1.1   0.6747711   0.6764148   0.6728002\n",
       "3      USA   BA.1.1.1  0.67475915  0.69391716   0.6575288\n",
       "4      USA  BA.1.1.10   0.7552886  0.77209896   0.7432441\n",
       "5      USA  BA.1.1.14  0.69627714  0.70854044  0.68115306\n",
       "6      USA  BA.1.1.16   0.7183915   0.7318605   0.7085033\n",
       "7      USA  BA.1.1.18   0.6399752   0.6462689   0.6341029\n",
       "8      USA   BA.1.1.2  0.61189365  0.63070726   0.5957508\n",
       "9      USA    BA.1.15   0.6321796   0.6372749   0.6275044"
      ]
     },
     "execution_count": 17,
     "metadata": {},
     "output_type": "execute_result"
    }
   ],
   "source": [
    "ga_df = pd.DataFrame(\n",
    "    ef.posterior.get_growth_advantage(samples, posterior.data, ps=[0.8], name=\"USA\", rel_to=\"BA.2\")\n",
    ")\n",
    "ga_df.head(10)"
   ]
  },
  {
   "cell_type": "code",
   "execution_count": 18,
   "id": "retained-caution",
   "metadata": {},
   "outputs": [],
   "source": [
    "ga_df.to_csv('growth_advantages.tsv', sep=\"\\t\")"
   ]
  },
  {
   "cell_type": "code",
   "execution_count": 19,
   "id": "e71afed2",
   "metadata": {},
   "outputs": [],
   "source": [
    "def get_growth_advantage_delta(samples, data, ps, name, rel_to=\"other\"):\n",
    "    # Unpack variant info\n",
    "    var_names = data.var_names\n",
    "    par_names = [data.parent_map[v] for v in var_names]\n",
    "\n",
    "    # Get posterior samples\n",
    "    ga = jnp.array(jnp.exp(samples[\"ga_delta\"]))\n",
    "    N_variant = ga.shape[-1]\n",
    "\n",
    "    # Loop over ga and make relative rel_to\n",
    "    for i, s in enumerate(var_names):\n",
    "        if s == rel_to:\n",
    "            ga = jnp.divide(ga, ga[:, i][:, None])\n",
    "\n",
    "    #ga = jnp.divide(ga, ga[:, var_names.index(rel_to)][:, None])\n",
    "\n",
    "    # Compute medians and quantiles\n",
    "    meds = jnp.median(ga, axis=0)\n",
    "    gas = []\n",
    "    for i, p in enumerate(ps):\n",
    "        up = 0.5 + p / 2\n",
    "        lp = 0.5 - p / 2\n",
    "        gas.append(jnp.quantile(ga, jnp.array([lp, up]), axis=0).T)\n",
    "\n",
    "    # Make empty dictionary\n",
    "    v_dict = dict()\n",
    "    v_dict[\"location\"] = []\n",
    "    v_dict[\"variant\"] = []\n",
    "    v_dict[\"parent\"] = []\n",
    "    v_dict[\"median_ga_delta\"] = []\n",
    "\n",
    "    for p in ps:\n",
    "        v_dict[f\"ga_delta_upper_{round(p * 100)}\"] = []\n",
    "        v_dict[f\"ga_delta_lower_{round(p * 100)}\"] = []\n",
    "\n",
    "    for variant in range(N_variant):\n",
    "        if var_names[variant] != rel_to:\n",
    "            v_dict[\"location\"].append(name)\n",
    "            v_dict[\"variant\"].append(var_names[variant])\n",
    "            v_dict[\"parent\"].append(par_names[variant])\n",
    "            v_dict[\"median_ga_delta\"].append(meds[variant])\n",
    "            for i, p in enumerate(ps):\n",
    "                v_dict[f\"ga_delta_upper_{round(p * 100)}\"].append(gas[i][variant, 1])\n",
    "                v_dict[f\"ga_delta_lower_{round(p * 100)}\"].append(gas[i][variant, 0])\n",
    "\n",
    "    return v_dict"
   ]
  },
  {
   "cell_type": "code",
   "execution_count": 20,
   "id": "93cd39d4",
   "metadata": {},
   "outputs": [
    {
     "data": {
      "text/html": [
       "<div>\n",
       "<style scoped>\n",
       "    .dataframe tbody tr th:only-of-type {\n",
       "        vertical-align: middle;\n",
       "    }\n",
       "\n",
       "    .dataframe tbody tr th {\n",
       "        vertical-align: top;\n",
       "    }\n",
       "\n",
       "    .dataframe thead th {\n",
       "        text-align: right;\n",
       "    }\n",
       "</style>\n",
       "<table border=\"1\" class=\"dataframe\">\n",
       "  <thead>\n",
       "    <tr style=\"text-align: right;\">\n",
       "      <th></th>\n",
       "      <th>location</th>\n",
       "      <th>variant</th>\n",
       "      <th>parent</th>\n",
       "      <th>median_ga_delta</th>\n",
       "      <th>ga_delta_upper_80</th>\n",
       "      <th>ga_delta_lower_80</th>\n",
       "    </tr>\n",
       "  </thead>\n",
       "  <tbody>\n",
       "    <tr>\n",
       "      <th>0</th>\n",
       "      <td>USA</td>\n",
       "      <td>B.1.1.529</td>\n",
       "      <td>BA.2</td>\n",
       "      <td>1.816323</td>\n",
       "      <td>1.8333869</td>\n",
       "      <td>1.7965583</td>\n",
       "    </tr>\n",
       "    <tr>\n",
       "      <th>1</th>\n",
       "      <td>USA</td>\n",
       "      <td>BA.1</td>\n",
       "      <td>BA.2</td>\n",
       "      <td>0.70300716</td>\n",
       "      <td>0.7044768</td>\n",
       "      <td>0.70166785</td>\n",
       "    </tr>\n",
       "    <tr>\n",
       "      <th>2</th>\n",
       "      <td>USA</td>\n",
       "      <td>BA.1.1</td>\n",
       "      <td>BA.1</td>\n",
       "      <td>1.0426798</td>\n",
       "      <td>1.0458304</td>\n",
       "      <td>1.0397875</td>\n",
       "    </tr>\n",
       "    <tr>\n",
       "      <th>3</th>\n",
       "      <td>USA</td>\n",
       "      <td>BA.1.1.1</td>\n",
       "      <td>BA.1.1</td>\n",
       "      <td>1.0004717</td>\n",
       "      <td>1.0281682</td>\n",
       "      <td>0.97542197</td>\n",
       "    </tr>\n",
       "    <tr>\n",
       "      <th>4</th>\n",
       "      <td>USA</td>\n",
       "      <td>BA.1.1.10</td>\n",
       "      <td>BA.1.1</td>\n",
       "      <td>1.1280503</td>\n",
       "      <td>1.1536113</td>\n",
       "      <td>1.1070307</td>\n",
       "    </tr>\n",
       "    <tr>\n",
       "      <th>5</th>\n",
       "      <td>USA</td>\n",
       "      <td>BA.1.1.14</td>\n",
       "      <td>BA.1.1</td>\n",
       "      <td>1.0324166</td>\n",
       "      <td>1.0546826</td>\n",
       "      <td>1.0076656</td>\n",
       "    </tr>\n",
       "    <tr>\n",
       "      <th>6</th>\n",
       "      <td>USA</td>\n",
       "      <td>BA.1.1.16</td>\n",
       "      <td>BA.1.1</td>\n",
       "      <td>1.0674789</td>\n",
       "      <td>1.08742</td>\n",
       "      <td>1.050251</td>\n",
       "    </tr>\n",
       "    <tr>\n",
       "      <th>7</th>\n",
       "      <td>USA</td>\n",
       "      <td>BA.1.1.18</td>\n",
       "      <td>BA.1.1</td>\n",
       "      <td>0.94986284</td>\n",
       "      <td>0.95744866</td>\n",
       "      <td>0.9430778</td>\n",
       "    </tr>\n",
       "    <tr>\n",
       "      <th>8</th>\n",
       "      <td>USA</td>\n",
       "      <td>BA.1.1.2</td>\n",
       "      <td>BA.1.1</td>\n",
       "      <td>0.9112313</td>\n",
       "      <td>0.9362829</td>\n",
       "      <td>0.88982254</td>\n",
       "    </tr>\n",
       "    <tr>\n",
       "      <th>9</th>\n",
       "      <td>USA</td>\n",
       "      <td>BA.1.15</td>\n",
       "      <td>BA.1</td>\n",
       "      <td>0.9762453</td>\n",
       "      <td>0.98437434</td>\n",
       "      <td>0.9683009</td>\n",
       "    </tr>\n",
       "  </tbody>\n",
       "</table>\n",
       "</div>"
      ],
      "text/plain": [
       "  location    variant  parent median_ga_delta ga_delta_upper_80  \\\n",
       "0      USA  B.1.1.529    BA.2        1.816323         1.8333869   \n",
       "1      USA       BA.1    BA.2      0.70300716         0.7044768   \n",
       "2      USA     BA.1.1    BA.1       1.0426798         1.0458304   \n",
       "3      USA   BA.1.1.1  BA.1.1       1.0004717         1.0281682   \n",
       "4      USA  BA.1.1.10  BA.1.1       1.1280503         1.1536113   \n",
       "5      USA  BA.1.1.14  BA.1.1       1.0324166         1.0546826   \n",
       "6      USA  BA.1.1.16  BA.1.1       1.0674789           1.08742   \n",
       "7      USA  BA.1.1.18  BA.1.1      0.94986284        0.95744866   \n",
       "8      USA   BA.1.1.2  BA.1.1       0.9112313         0.9362829   \n",
       "9      USA    BA.1.15    BA.1       0.9762453        0.98437434   \n",
       "\n",
       "  ga_delta_lower_80  \n",
       "0         1.7965583  \n",
       "1        0.70166785  \n",
       "2         1.0397875  \n",
       "3        0.97542197  \n",
       "4         1.1070307  \n",
       "5         1.0076656  \n",
       "6          1.050251  \n",
       "7         0.9430778  \n",
       "8        0.88982254  \n",
       "9         0.9683009  "
      ]
     },
     "execution_count": 20,
     "metadata": {},
     "output_type": "execute_result"
    }
   ],
   "source": [
    "ga_delta_df = pd.DataFrame(\n",
    "    get_growth_advantage_delta(samples, variant_frequencies, [0.8], \"USA\", rel_to=\"BA.2\")\n",
    ")\n",
    "ga_delta_df.head(10)"
   ]
  },
  {
   "cell_type": "code",
   "execution_count": 21,
   "id": "68a5ade6",
   "metadata": {},
   "outputs": [],
   "source": [
    "ga_delta_df.to_csv('growth_advantages_delta.tsv', sep=\"\\t\")"
   ]
  }
 ],
 "metadata": {
  "kernelspec": {
   "display_name": "Python 3 (ipykernel)",
   "language": "python",
   "name": "python3"
  },
  "language_info": {
   "codemirror_mode": {
    "name": "ipython",
    "version": 3
   },
   "file_extension": ".py",
   "mimetype": "text/x-python",
   "name": "python",
   "nbconvert_exporter": "python",
   "pygments_lexer": "ipython3",
   "version": "3.11.4"
  }
 },
 "nbformat": 4,
 "nbformat_minor": 5
}
