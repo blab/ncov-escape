{
 "cells": [
  {
   "cell_type": "code",
   "execution_count": 1,
   "id": "2762e536",
   "metadata": {},
   "outputs": [],
   "source": [
    "import pandas as pd\n",
    "import numpy as np\n",
    "from jax import vmap\n",
    "import jax.numpy as jnp\n",
    "from jax.nn import softmax\n",
    "import evofr as ef"
   ]
  },
  {
   "cell_type": "code",
   "execution_count": 2,
   "id": "4d621e95",
   "metadata": {},
   "outputs": [],
   "source": [
    "# Getting data\n",
    "raw_seq = pd.read_csv(\"../data/pango_location-variant-sequence-counts.tsv\", sep=\"\\t\")\n",
    "raw_seq = raw_seq[raw_seq.location == \"USA\"]\n",
    "variant_frequencies = ef.VariantFrequencies(raw_seq)"
   ]
  },
  {
   "cell_type": "code",
   "execution_count": 3,
   "id": "8f9ac2ec",
   "metadata": {},
   "outputs": [],
   "source": [
    "# Defining model\n",
    "mlr = ef.MultinomialLogisticRegression(tau=4.2)"
   ]
  },
  {
   "cell_type": "code",
   "execution_count": 4,
   "id": "b78e8853",
   "metadata": {},
   "outputs": [],
   "source": [
    "# Defining inference method\n",
    "inference_method = ef.InferFullRank(iters=30_000, lr=0.01, num_samples=100)"
   ]
  },
  {
   "cell_type": "code",
   "execution_count": 5,
   "id": "760d058a",
   "metadata": {},
   "outputs": [],
   "source": [
    "# Fitting model\n",
    "posterior = inference_method.fit(mlr, variant_frequencies)\n",
    "samples = posterior.samples"
   ]
  },
  {
   "cell_type": "code",
   "execution_count": 6,
   "id": "faac7458",
   "metadata": {},
   "outputs": [],
   "source": [
    "def forecast_frequencies(samples, mlr, forecast_L):\n",
    "    \"\"\"\n",
    "    Use posterior beta to forecast posterior frequenicies.\n",
    "    \"\"\"\n",
    "    \n",
    "    # Making feature matrix for forecasting\n",
    "    last_T = samples[\"freq\"].shape[1]\n",
    "    X = mlr.make_ols_feature(start=last_T, stop=last_T + forecast_L)\n",
    "    \n",
    "    # Posterior beta\n",
    "    beta = jnp.array(samples[\"beta\"])\n",
    "    \n",
    "    # Matrix multiplication by sample\n",
    "    dot_by_sample = vmap(jnp.dot, in_axes=(None, 0), out_axes=0)\n",
    "    logits = dot_by_sample(X, beta) # Logit frequencies by variant\n",
    "    return softmax(logits, axis=-1)\n",
    "\n",
    "forecast_L = 30\n",
    "samples[\"freq_forecast\"] = forecast_frequencies(samples, mlr, forecast_L)"
   ]
  },
  {
   "cell_type": "code",
   "execution_count": 7,
   "id": "statewide-harris",
   "metadata": {},
   "outputs": [],
   "source": [
    "ga = samples[\"ga\"]"
   ]
  },
  {
   "cell_type": "code",
   "execution_count": 8,
   "id": "standing-burning",
   "metadata": {},
   "outputs": [
    {
     "data": {
      "text/plain": [
       "(100, 163)"
      ]
     },
     "execution_count": 8,
     "metadata": {},
     "output_type": "execute_result"
    }
   ],
   "source": [
    "ga.shape"
   ]
  },
  {
   "cell_type": "code",
   "execution_count": 9,
   "id": "expected-basis",
   "metadata": {},
   "outputs": [
    {
     "data": {
      "text/plain": [
       "jaxlib.xla_extension.DeviceArray"
      ]
     },
     "execution_count": 9,
     "metadata": {},
     "output_type": "execute_result"
    }
   ],
   "source": [
    "type(ga)"
   ]
  },
  {
   "cell_type": "code",
   "execution_count": 10,
   "id": "fa2e4ed5",
   "metadata": {},
   "outputs": [
    {
     "data": {
      "text/plain": [
       "['B.1.1.529',\n",
       " 'BA.1',\n",
       " 'BA.1.1',\n",
       " 'BA.1.1.1',\n",
       " 'BA.1.1.10',\n",
       " 'BA.1.1.14',\n",
       " 'BA.1.1.16',\n",
       " 'BA.1.1.18',\n",
       " 'BA.1.1.2',\n",
       " 'BA.1.15']"
      ]
     },
     "execution_count": 10,
     "metadata": {},
     "output_type": "execute_result"
    }
   ],
   "source": [
    "posterior.data.var_names[:10]"
   ]
  },
  {
   "cell_type": "code",
   "execution_count": 11,
   "id": "2389eaf8",
   "metadata": {},
   "outputs": [
    {
     "data": {
      "text/html": [
       "<div>\n",
       "<style scoped>\n",
       "    .dataframe tbody tr th:only-of-type {\n",
       "        vertical-align: middle;\n",
       "    }\n",
       "\n",
       "    .dataframe tbody tr th {\n",
       "        vertical-align: top;\n",
       "    }\n",
       "\n",
       "    .dataframe thead th {\n",
       "        text-align: right;\n",
       "    }\n",
       "</style>\n",
       "<table border=\"1\" class=\"dataframe\">\n",
       "  <thead>\n",
       "    <tr style=\"text-align: right;\">\n",
       "      <th></th>\n",
       "      <th>location</th>\n",
       "      <th>variant</th>\n",
       "      <th>median_ga</th>\n",
       "      <th>ga_upper_80</th>\n",
       "      <th>ga_lower_80</th>\n",
       "    </tr>\n",
       "  </thead>\n",
       "  <tbody>\n",
       "    <tr>\n",
       "      <th>0</th>\n",
       "      <td>USA</td>\n",
       "      <td>B.1.1.529</td>\n",
       "      <td>1.600136</td>\n",
       "      <td>1.6094162</td>\n",
       "      <td>1.5920101</td>\n",
       "    </tr>\n",
       "    <tr>\n",
       "      <th>1</th>\n",
       "      <td>USA</td>\n",
       "      <td>BA.1</td>\n",
       "      <td>0.6470126</td>\n",
       "      <td>0.65158707</td>\n",
       "      <td>0.64206755</td>\n",
       "    </tr>\n",
       "    <tr>\n",
       "      <th>2</th>\n",
       "      <td>USA</td>\n",
       "      <td>BA.1.1</td>\n",
       "      <td>0.676453</td>\n",
       "      <td>0.67779565</td>\n",
       "      <td>0.67521626</td>\n",
       "    </tr>\n",
       "    <tr>\n",
       "      <th>3</th>\n",
       "      <td>USA</td>\n",
       "      <td>BA.1.1.1</td>\n",
       "      <td>0.6751293</td>\n",
       "      <td>0.6891342</td>\n",
       "      <td>0.6581392</td>\n",
       "    </tr>\n",
       "    <tr>\n",
       "      <th>4</th>\n",
       "      <td>USA</td>\n",
       "      <td>BA.1.1.10</td>\n",
       "      <td>0.7596299</td>\n",
       "      <td>0.7697921</td>\n",
       "      <td>0.74802005</td>\n",
       "    </tr>\n",
       "    <tr>\n",
       "      <th>5</th>\n",
       "      <td>USA</td>\n",
       "      <td>BA.1.1.14</td>\n",
       "      <td>0.6809459</td>\n",
       "      <td>0.6963756</td>\n",
       "      <td>0.66183364</td>\n",
       "    </tr>\n",
       "    <tr>\n",
       "      <th>6</th>\n",
       "      <td>USA</td>\n",
       "      <td>BA.1.1.16</td>\n",
       "      <td>0.73752725</td>\n",
       "      <td>0.7538507</td>\n",
       "      <td>0.72013676</td>\n",
       "    </tr>\n",
       "    <tr>\n",
       "      <th>7</th>\n",
       "      <td>USA</td>\n",
       "      <td>BA.1.1.18</td>\n",
       "      <td>0.6395916</td>\n",
       "      <td>0.6443845</td>\n",
       "      <td>0.634317</td>\n",
       "    </tr>\n",
       "    <tr>\n",
       "      <th>8</th>\n",
       "      <td>USA</td>\n",
       "      <td>BA.1.1.2</td>\n",
       "      <td>0.61307806</td>\n",
       "      <td>0.6288856</td>\n",
       "      <td>0.5919038</td>\n",
       "    </tr>\n",
       "    <tr>\n",
       "      <th>9</th>\n",
       "      <td>USA</td>\n",
       "      <td>BA.1.15</td>\n",
       "      <td>0.6287744</td>\n",
       "      <td>0.6336167</td>\n",
       "      <td>0.6225041</td>\n",
       "    </tr>\n",
       "  </tbody>\n",
       "</table>\n",
       "</div>"
      ],
      "text/plain": [
       "  location    variant   median_ga ga_upper_80 ga_lower_80\n",
       "0      USA  B.1.1.529    1.600136   1.6094162   1.5920101\n",
       "1      USA       BA.1   0.6470126  0.65158707  0.64206755\n",
       "2      USA     BA.1.1    0.676453  0.67779565  0.67521626\n",
       "3      USA   BA.1.1.1   0.6751293   0.6891342   0.6581392\n",
       "4      USA  BA.1.1.10   0.7596299   0.7697921  0.74802005\n",
       "5      USA  BA.1.1.14   0.6809459   0.6963756  0.66183364\n",
       "6      USA  BA.1.1.16  0.73752725   0.7538507  0.72013676\n",
       "7      USA  BA.1.1.18   0.6395916   0.6443845    0.634317\n",
       "8      USA   BA.1.1.2  0.61307806   0.6288856   0.5919038\n",
       "9      USA    BA.1.15   0.6287744   0.6336167   0.6225041"
      ]
     },
     "execution_count": 11,
     "metadata": {},
     "output_type": "execute_result"
    }
   ],
   "source": [
    "ga_df = pd.DataFrame(\n",
    "    ef.posterior.get_growth_advantage(samples, posterior.data, ps=[0.8], name=\"USA\", rel_to=\"BA.2\")\n",
    ")\n",
    "ga_df.head(10)"
   ]
  },
  {
   "cell_type": "code",
   "execution_count": 12,
   "id": "retained-caution",
   "metadata": {},
   "outputs": [],
   "source": [
    "ga_df.to_csv('growth_advantages.tsv', sep=\"\\t\")"
   ]
  }
 ],
 "metadata": {
  "kernelspec": {
   "display_name": "Python 3 (ipykernel)",
   "language": "python",
   "name": "python3"
  },
  "language_info": {
   "codemirror_mode": {
    "name": "ipython",
    "version": 3
   },
   "file_extension": ".py",
   "mimetype": "text/x-python",
   "name": "python",
   "nbconvert_exporter": "python",
   "pygments_lexer": "ipython3",
   "version": "3.9.13"
  }
 },
 "nbformat": 4,
 "nbformat_minor": 5
}
