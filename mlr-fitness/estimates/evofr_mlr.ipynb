{
 "cells": [
  {
   "cell_type": "code",
   "execution_count": 1,
   "id": "2762e536",
   "metadata": {},
   "outputs": [
    {
     "name": "stderr",
     "output_type": "stream",
     "text": [
      "/opt/homebrew/lib/python3.9/site-packages/jax/_src/lib/__init__.py:34: UserWarning: JAX on Mac ARM machines is experimental and minimally tested. Please see https://github.com/google/jax/issues/5501 in the event of problems.\n",
      "  warnings.warn(\"JAX on Mac ARM machines is experimental and minimally tested. \"\n"
     ]
    }
   ],
   "source": [
    "import pandas as pd\n",
    "import numpy as np\n",
    "from jax import vmap\n",
    "import jax.numpy as jnp\n",
    "from jax.nn import softmax\n",
    "import evofr as ef"
   ]
  },
  {
   "cell_type": "code",
   "execution_count": 2,
   "id": "4d621e95",
   "metadata": {},
   "outputs": [],
   "source": [
    "# Getting data\n",
    "raw_seq = pd.read_csv(\"../data/pango_location-variant-sequence-counts.tsv\", sep=\"\\t\")\n",
    "raw_seq = raw_seq[raw_seq.location == \"USA\"]\n",
    "variant_frequencies = ef.VariantFrequencies(raw_seq)"
   ]
  },
  {
   "cell_type": "markdown",
   "id": "junior-passenger",
   "metadata": {},
   "source": [
    "_How do I set the baseline Pango lineage in the MLR model? For this analysis, I'd like all estimates to be relative to BA.2._"
   ]
  },
  {
   "cell_type": "code",
   "execution_count": 3,
   "id": "8f9ac2ec",
   "metadata": {},
   "outputs": [],
   "source": [
    "# Defining model\n",
    "mlr = ef.MultinomialLogisticRegression(tau=4.2)"
   ]
  },
  {
   "cell_type": "code",
   "execution_count": 4,
   "id": "b78e8853",
   "metadata": {},
   "outputs": [],
   "source": [
    "# Defining inference method\n",
    "inference_method = ef.InferFullRank(iters=10_000, lr=0.01, num_samples=100)"
   ]
  },
  {
   "cell_type": "code",
   "execution_count": 5,
   "id": "760d058a",
   "metadata": {},
   "outputs": [],
   "source": [
    "# Fitting model\n",
    "posterior = inference_method.fit(mlr, variant_frequencies)\n",
    "samples = posterior.samples"
   ]
  },
  {
   "cell_type": "code",
   "execution_count": 6,
   "id": "faac7458",
   "metadata": {},
   "outputs": [],
   "source": [
    "def forecast_frequencies(samples, mlr, forecast_L):\n",
    "    \"\"\"\n",
    "    Use posterior beta to forecast posterior frequenicies.\n",
    "    \"\"\"\n",
    "    \n",
    "    # Making feature matrix for forecasting\n",
    "    last_T = samples[\"freq\"].shape[1]\n",
    "    X = mlr.make_ols_feature(start=last_T, stop=last_T + forecast_L)\n",
    "    \n",
    "    # Posterior beta\n",
    "    beta = jnp.array(samples[\"beta\"])\n",
    "    \n",
    "    # Matrix multiplication by sample\n",
    "    dot_by_sample = vmap(jnp.dot, in_axes=(None, 0), out_axes=0)\n",
    "    logits = dot_by_sample(X, beta) # Logit frequencies by variant\n",
    "    return softmax(logits, axis=-1)\n",
    "\n",
    "forecast_L = 30\n",
    "samples[\"freq_forecast\"] = forecast_frequencies(samples, mlr, forecast_L)"
   ]
  },
  {
   "cell_type": "code",
   "execution_count": 7,
   "id": "statewide-harris",
   "metadata": {},
   "outputs": [],
   "source": [
    "ga = samples[\"ga\"]"
   ]
  },
  {
   "cell_type": "markdown",
   "id": "joined-healing",
   "metadata": {},
   "source": [
    "_This has growth advantages for 141 Pango lineages as expected. However, I don't know what order these are in. I can't inspect `posterior` to get a list of variant labels._"
   ]
  },
  {
   "cell_type": "code",
   "execution_count": 8,
   "id": "standing-burning",
   "metadata": {},
   "outputs": [
    {
     "data": {
      "text/plain": [
       "(100, 136)"
      ]
     },
     "execution_count": 8,
     "metadata": {},
     "output_type": "execute_result"
    }
   ],
   "source": [
    "ga.shape"
   ]
  },
  {
   "cell_type": "code",
   "execution_count": 9,
   "id": "expected-basis",
   "metadata": {},
   "outputs": [
    {
     "data": {
      "text/plain": [
       "jaxlib.xla_extension.DeviceArray"
      ]
     },
     "execution_count": 9,
     "metadata": {},
     "output_type": "execute_result"
    }
   ],
   "source": [
    "type(ga)"
   ]
  },
  {
   "cell_type": "code",
   "execution_count": 10,
   "id": "fa2e4ed5",
   "metadata": {},
   "outputs": [
    {
     "data": {
      "text/plain": [
       "['B.1.1.529',\n",
       " 'BA.1',\n",
       " 'BA.1.1',\n",
       " 'BA.1.1.1',\n",
       " 'BA.1.1.10',\n",
       " 'BA.1.1.14',\n",
       " 'BA.1.1.16',\n",
       " 'BA.1.1.18',\n",
       " 'BA.1.1.2',\n",
       " 'BA.1.15']"
      ]
     },
     "execution_count": 10,
     "metadata": {},
     "output_type": "execute_result"
    }
   ],
   "source": [
    "posterior.data.var_names[:10]"
   ]
  },
  {
   "cell_type": "code",
   "execution_count": 11,
   "id": "2389eaf8",
   "metadata": {},
   "outputs": [
    {
     "data": {
      "text/html": [
       "<div>\n",
       "<style scoped>\n",
       "    .dataframe tbody tr th:only-of-type {\n",
       "        vertical-align: middle;\n",
       "    }\n",
       "\n",
       "    .dataframe tbody tr th {\n",
       "        vertical-align: top;\n",
       "    }\n",
       "\n",
       "    .dataframe thead th {\n",
       "        text-align: right;\n",
       "    }\n",
       "</style>\n",
       "<table border=\"1\" class=\"dataframe\">\n",
       "  <thead>\n",
       "    <tr style=\"text-align: right;\">\n",
       "      <th></th>\n",
       "      <th>location</th>\n",
       "      <th>variant</th>\n",
       "      <th>median_ga</th>\n",
       "      <th>ga_upper_80</th>\n",
       "      <th>ga_lower_80</th>\n",
       "    </tr>\n",
       "  </thead>\n",
       "  <tbody>\n",
       "    <tr>\n",
       "      <th>0</th>\n",
       "      <td>USA</td>\n",
       "      <td>B.1.1.529</td>\n",
       "      <td>1.289532</td>\n",
       "      <td>1.3436532</td>\n",
       "      <td>1.248903</td>\n",
       "    </tr>\n",
       "    <tr>\n",
       "      <th>1</th>\n",
       "      <td>USA</td>\n",
       "      <td>BA.1</td>\n",
       "      <td>0.6548698</td>\n",
       "      <td>0.6998214</td>\n",
       "      <td>0.61538386</td>\n",
       "    </tr>\n",
       "    <tr>\n",
       "      <th>2</th>\n",
       "      <td>USA</td>\n",
       "      <td>BA.1.1</td>\n",
       "      <td>0.6803367</td>\n",
       "      <td>0.69392866</td>\n",
       "      <td>0.6709625</td>\n",
       "    </tr>\n",
       "    <tr>\n",
       "      <th>3</th>\n",
       "      <td>USA</td>\n",
       "      <td>BA.1.1.1</td>\n",
       "      <td>0.678831</td>\n",
       "      <td>0.6960484</td>\n",
       "      <td>0.6598664</td>\n",
       "    </tr>\n",
       "    <tr>\n",
       "      <th>4</th>\n",
       "      <td>USA</td>\n",
       "      <td>BA.1.1.10</td>\n",
       "      <td>0.71351975</td>\n",
       "      <td>0.8233964</td>\n",
       "      <td>0.60308355</td>\n",
       "    </tr>\n",
       "    <tr>\n",
       "      <th>5</th>\n",
       "      <td>USA</td>\n",
       "      <td>BA.1.1.14</td>\n",
       "      <td>0.11371252</td>\n",
       "      <td>0.18571493</td>\n",
       "      <td>0.063547716</td>\n",
       "    </tr>\n",
       "    <tr>\n",
       "      <th>6</th>\n",
       "      <td>USA</td>\n",
       "      <td>BA.1.1.16</td>\n",
       "      <td>0.48435217</td>\n",
       "      <td>0.63184166</td>\n",
       "      <td>0.40309379</td>\n",
       "    </tr>\n",
       "    <tr>\n",
       "      <th>7</th>\n",
       "      <td>USA</td>\n",
       "      <td>BA.1.1.18</td>\n",
       "      <td>0.6455199</td>\n",
       "      <td>0.68375903</td>\n",
       "      <td>0.60981864</td>\n",
       "    </tr>\n",
       "    <tr>\n",
       "      <th>8</th>\n",
       "      <td>USA</td>\n",
       "      <td>BA.1.1.2</td>\n",
       "      <td>0.26329726</td>\n",
       "      <td>0.3599235</td>\n",
       "      <td>0.19728732</td>\n",
       "    </tr>\n",
       "    <tr>\n",
       "      <th>9</th>\n",
       "      <td>USA</td>\n",
       "      <td>BA.1.15</td>\n",
       "      <td>0.61630255</td>\n",
       "      <td>0.6691734</td>\n",
       "      <td>0.55900705</td>\n",
       "    </tr>\n",
       "  </tbody>\n",
       "</table>\n",
       "</div>"
      ],
      "text/plain": [
       "  location    variant   median_ga ga_upper_80  ga_lower_80\n",
       "0      USA  B.1.1.529    1.289532   1.3436532     1.248903\n",
       "1      USA       BA.1   0.6548698   0.6998214   0.61538386\n",
       "2      USA     BA.1.1   0.6803367  0.69392866    0.6709625\n",
       "3      USA   BA.1.1.1    0.678831   0.6960484    0.6598664\n",
       "4      USA  BA.1.1.10  0.71351975   0.8233964   0.60308355\n",
       "5      USA  BA.1.1.14  0.11371252  0.18571493  0.063547716\n",
       "6      USA  BA.1.1.16  0.48435217  0.63184166   0.40309379\n",
       "7      USA  BA.1.1.18   0.6455199  0.68375903   0.60981864\n",
       "8      USA   BA.1.1.2  0.26329726   0.3599235   0.19728732\n",
       "9      USA    BA.1.15  0.61630255   0.6691734   0.55900705"
      ]
     },
     "execution_count": 11,
     "metadata": {},
     "output_type": "execute_result"
    }
   ],
   "source": [
    "ga_df = pd.DataFrame(\n",
    "    ef.posterior.get_growth_advantage(samples, posterior.data, ps=[0.8], name=\"USA\", rel_to=\"BA.2\")\n",
    ")\n",
    "ga_df.head(10)"
   ]
  },
  {
   "cell_type": "code",
   "execution_count": 12,
   "id": "retained-caution",
   "metadata": {},
   "outputs": [],
   "source": [
    "ga_df.to_csv('growth_advantages.tsv', sep=\"\\t\")"
   ]
  }
 ],
 "metadata": {
  "kernelspec": {
   "display_name": "Python 3",
   "language": "python",
   "name": "python3"
  },
  "language_info": {
   "codemirror_mode": {
    "name": "ipython",
    "version": 3
   },
   "file_extension": ".py",
   "mimetype": "text/x-python",
   "name": "python",
   "nbconvert_exporter": "python",
   "pygments_lexer": "ipython3",
   "version": "3.9.2"
  }
 },
 "nbformat": 4,
 "nbformat_minor": 5
}
