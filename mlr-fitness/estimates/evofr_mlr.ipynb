{
 "cells": [
  {
   "cell_type": "code",
   "execution_count": 1,
   "id": "2762e536",
   "metadata": {},
   "outputs": [],
   "source": [
    "import pandas as pd\n",
    "import numpy as np\n",
    "from jax import vmap\n",
    "import jax.numpy as jnp\n",
    "from jax.nn import softmax\n",
    "import evofr as ef"
   ]
  },
  {
   "cell_type": "code",
   "execution_count": 50,
   "id": "4d621e95",
   "metadata": {},
   "outputs": [],
   "source": [
    "# Getting data\n",
    "raw_seq = pd.read_csv(\"../data/pango_location-variant-sequence-counts.tsv\", sep=\"\\t\")\n",
    "raw_seq = raw_seq[raw_seq.location == \"USA\"]\n",
    "variant_frequencies = ef.VariantFrequencies(raw_seq)"
   ]
  },
  {
   "cell_type": "code",
   "execution_count": 3,
   "id": "8f9ac2ec",
   "metadata": {},
   "outputs": [],
   "source": [
    "# Defining model\n",
    "mlr = ef.MultinomialLogisticRegression(tau=4.2)"
   ]
  },
  {
   "cell_type": "code",
   "execution_count": 51,
   "id": "b78e8853",
   "metadata": {},
   "outputs": [],
   "source": [
    "# Defining inference method\n",
    "inference_method = ef.InferFullRank(iters=50_000, lr=4e-3, num_samples=100)"
   ]
  },
  {
   "cell_type": "code",
   "execution_count": 52,
   "id": "760d058a",
   "metadata": {},
   "outputs": [],
   "source": [
    "# Fitting model\n",
    "posterior = inference_method.fit(mlr, variant_frequencies)\n",
    "samples = posterior.samples"
   ]
  },
  {
   "cell_type": "code",
   "execution_count": 53,
   "id": "88de95a3",
   "metadata": {},
   "outputs": [
    {
     "data": {
      "text/plain": [
       "Text(0, 0.5, 'loss')"
      ]
     },
     "execution_count": 53,
     "metadata": {},
     "output_type": "execute_result"
    },
    {
     "data": {
      "image/png": "[encoded data removed]",
      "text/plain": [
       "<Figure size 640x480 with 1 Axes>"
      ]
     },
     "metadata": {},
     "output_type": "display_data"
    }
   ],
   "source": [
    "import matplotlib.pyplot as plt\n",
    "\n",
    "plt.plot(posterior.samples[\"losses\"])\n",
    "plt.yscale(\"log\")\n",
    "plt.xlabel(\"iterations\")\n",
    "plt.ylabel(\"loss\")"
   ]
  },
  {
   "cell_type": "code",
   "execution_count": 54,
   "id": "faac7458",
   "metadata": {},
   "outputs": [],
   "source": [
    "def forecast_frequencies(samples, mlr, forecast_L):\n",
    "    \"\"\"\n",
    "    Use posterior beta to forecast posterior frequenicies.\n",
    "    \"\"\"\n",
    "    \n",
    "    # Making feature matrix for forecasting\n",
    "    last_T = samples[\"freq\"].shape[1]\n",
    "    X = mlr.make_ols_feature(start=last_T, stop=last_T + forecast_L)\n",
    "    \n",
    "    # Posterior beta\n",
    "    beta = jnp.array(samples[\"beta\"])\n",
    "    \n",
    "    # Matrix multiplication by sample\n",
    "    dot_by_sample = vmap(jnp.dot, in_axes=(None, 0), out_axes=0)\n",
    "    logits = dot_by_sample(X, beta) # Logit frequencies by variant\n",
    "    return softmax(logits, axis=-1)\n",
    "\n",
    "forecast_L = 30\n",
    "samples[\"freq_forecast\"] = forecast_frequencies(samples, mlr, forecast_L)"
   ]
  },
  {
   "cell_type": "code",
   "execution_count": 55,
   "id": "statewide-harris",
   "metadata": {},
   "outputs": [],
   "source": [
    "ga = samples[\"ga\"]"
   ]
  },
  {
   "cell_type": "code",
   "execution_count": 56,
   "id": "standing-burning",
   "metadata": {},
   "outputs": [
    {
     "data": {
      "text/plain": [
       "(100, 178)"
      ]
     },
     "execution_count": 56,
     "metadata": {},
     "output_type": "execute_result"
    }
   ],
   "source": [
    "ga.shape"
   ]
  },
  {
   "cell_type": "code",
   "execution_count": 57,
   "id": "expected-basis",
   "metadata": {},
   "outputs": [
    {
     "data": {
      "text/plain": [
       "jaxlib.xla_extension.DeviceArray"
      ]
     },
     "execution_count": 57,
     "metadata": {},
     "output_type": "execute_result"
    }
   ],
   "source": [
    "type(ga)"
   ]
  },
  {
   "cell_type": "code",
   "execution_count": 58,
   "id": "fa2e4ed5",
   "metadata": {},
   "outputs": [
    {
     "data": {
      "text/plain": [
       "['B.1.1.529',\n",
       " 'BA.1',\n",
       " 'BA.1.1',\n",
       " 'BA.1.1.1',\n",
       " 'BA.1.1.10',\n",
       " 'BA.1.1.14',\n",
       " 'BA.1.1.16',\n",
       " 'BA.1.1.18',\n",
       " 'BA.1.1.2',\n",
       " 'BA.1.15']"
      ]
     },
     "execution_count": 58,
     "metadata": {},
     "output_type": "execute_result"
    }
   ],
   "source": [
    "posterior.data.var_names[:10]"
   ]
  },
  {
   "cell_type": "code",
   "execution_count": 59,
   "id": "2389eaf8",
   "metadata": {},
   "outputs": [
    {
     "data": {
      "text/html": [
       "<div>\n",
       "<style scoped>\n",
       "    .dataframe tbody tr th:only-of-type {\n",
       "        vertical-align: middle;\n",
       "    }\n",
       "\n",
       "    .dataframe tbody tr th {\n",
       "        vertical-align: top;\n",
       "    }\n",
       "\n",
       "    .dataframe thead th {\n",
       "        text-align: right;\n",
       "    }\n",
       "</style>\n",
       "<table border=\"1\" class=\"dataframe\">\n",
       "  <thead>\n",
       "    <tr style=\"text-align: right;\">\n",
       "      <th></th>\n",
       "      <th>location</th>\n",
       "      <th>variant</th>\n",
       "      <th>median_ga</th>\n",
       "      <th>ga_upper_80</th>\n",
       "      <th>ga_lower_80</th>\n",
       "    </tr>\n",
       "  </thead>\n",
       "  <tbody>\n",
       "    <tr>\n",
       "      <th>0</th>\n",
       "      <td>USA</td>\n",
       "      <td>B.1.1.529</td>\n",
       "      <td>1.6161208</td>\n",
       "      <td>1.6240993</td>\n",
       "      <td>1.6054294</td>\n",
       "    </tr>\n",
       "    <tr>\n",
       "      <th>1</th>\n",
       "      <td>USA</td>\n",
       "      <td>BA.1</td>\n",
       "      <td>0.644595</td>\n",
       "      <td>0.65105176</td>\n",
       "      <td>0.63814515</td>\n",
       "    </tr>\n",
       "    <tr>\n",
       "      <th>2</th>\n",
       "      <td>USA</td>\n",
       "      <td>BA.1.1</td>\n",
       "      <td>0.6733891</td>\n",
       "      <td>0.67506593</td>\n",
       "      <td>0.67194134</td>\n",
       "    </tr>\n",
       "    <tr>\n",
       "      <th>3</th>\n",
       "      <td>USA</td>\n",
       "      <td>BA.1.1.1</td>\n",
       "      <td>0.67428607</td>\n",
       "      <td>0.69395226</td>\n",
       "      <td>0.65517586</td>\n",
       "    </tr>\n",
       "    <tr>\n",
       "      <th>4</th>\n",
       "      <td>USA</td>\n",
       "      <td>BA.1.1.10</td>\n",
       "      <td>0.755792</td>\n",
       "      <td>0.77598506</td>\n",
       "      <td>0.74051404</td>\n",
       "    </tr>\n",
       "    <tr>\n",
       "      <th>5</th>\n",
       "      <td>USA</td>\n",
       "      <td>BA.1.1.14</td>\n",
       "      <td>0.6857434</td>\n",
       "      <td>0.7018959</td>\n",
       "      <td>0.6707358</td>\n",
       "    </tr>\n",
       "    <tr>\n",
       "      <th>6</th>\n",
       "      <td>USA</td>\n",
       "      <td>BA.1.1.16</td>\n",
       "      <td>0.7373934</td>\n",
       "      <td>0.7529831</td>\n",
       "      <td>0.7245691</td>\n",
       "    </tr>\n",
       "    <tr>\n",
       "      <th>7</th>\n",
       "      <td>USA</td>\n",
       "      <td>BA.1.1.18</td>\n",
       "      <td>0.6334076</td>\n",
       "      <td>0.63749856</td>\n",
       "      <td>0.6274937</td>\n",
       "    </tr>\n",
       "    <tr>\n",
       "      <th>8</th>\n",
       "      <td>USA</td>\n",
       "      <td>BA.1.1.2</td>\n",
       "      <td>0.61361754</td>\n",
       "      <td>0.6353099</td>\n",
       "      <td>0.59779334</td>\n",
       "    </tr>\n",
       "    <tr>\n",
       "      <th>9</th>\n",
       "      <td>USA</td>\n",
       "      <td>BA.1.15</td>\n",
       "      <td>0.6378884</td>\n",
       "      <td>0.6419065</td>\n",
       "      <td>0.6328708</td>\n",
       "    </tr>\n",
       "  </tbody>\n",
       "</table>\n",
       "</div>"
      ],
      "text/plain": [
       "  location    variant   median_ga ga_upper_80 ga_lower_80\n",
       "0      USA  B.1.1.529   1.6161208   1.6240993   1.6054294\n",
       "1      USA       BA.1    0.644595  0.65105176  0.63814515\n",
       "2      USA     BA.1.1   0.6733891  0.67506593  0.67194134\n",
       "3      USA   BA.1.1.1  0.67428607  0.69395226  0.65517586\n",
       "4      USA  BA.1.1.10    0.755792  0.77598506  0.74051404\n",
       "5      USA  BA.1.1.14   0.6857434   0.7018959   0.6707358\n",
       "6      USA  BA.1.1.16   0.7373934   0.7529831   0.7245691\n",
       "7      USA  BA.1.1.18   0.6334076  0.63749856   0.6274937\n",
       "8      USA   BA.1.1.2  0.61361754   0.6353099  0.59779334\n",
       "9      USA    BA.1.15   0.6378884   0.6419065   0.6328708"
      ]
     },
     "execution_count": 59,
     "metadata": {},
     "output_type": "execute_result"
    }
   ],
   "source": [
    "ga_df = pd.DataFrame(\n",
    "    ef.posterior.get_growth_advantage(samples, posterior.data, ps=[0.8], name=\"USA\", rel_to=\"BA.2\")\n",
    ")\n",
    "ga_df.head(10)"
   ]
  },
  {
   "cell_type": "code",
   "execution_count": 60,
   "id": "retained-caution",
   "metadata": {},
   "outputs": [],
   "source": [
    "ga_df.to_csv('growth_advantages.tsv', sep=\"\\t\")"
   ]
  }
 ],
 "metadata": {
  "kernelspec": {
   "display_name": "Python 3 (ipykernel)",
   "language": "python",
   "name": "python3"
  },
  "language_info": {
   "codemirror_mode": {
    "name": "ipython",
    "version": 3
   },
   "file_extension": ".py",
   "mimetype": "text/x-python",
   "name": "python",
   "nbconvert_exporter": "python",
   "pygments_lexer": "ipython3",
   "version": "3.10.4"
  }
 },
 "nbformat": 4,
 "nbformat_minor": 5
}
